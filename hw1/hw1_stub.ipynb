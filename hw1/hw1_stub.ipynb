{
 "cells": [
  {
   "cell_type": "code",
   "execution_count": 1,
   "id": "KbaVBWaMp7hv",
   "metadata": {
    "id": "KbaVBWaMp7hv"
   },
   "outputs": [],
   "source": [
    "import gzip\n",
    "import json\n",
    "import dateutil.parser\n",
    "import random"
   ]
  },
  {
   "cell_type": "code",
   "execution_count": 2,
   "id": "07ad6b17",
   "metadata": {
    "id": "07ad6b17"
   },
   "outputs": [],
   "source": [
    "from collections import defaultdict\n",
    "from sklearn import linear_model\n",
    "from sklearn.model_selection import train_test_split\n",
    "import numpy\n",
    "import math"
   ]
  },
  {
   "cell_type": "code",
   "execution_count": 3,
   "id": "LPrS79m5qmoU",
   "metadata": {
    "id": "LPrS79m5qmoU"
   },
   "outputs": [],
   "source": [
    "# my_root = 'C:/Users/esloe/OneDrive/Desktop/CSE 158/cse-158-HWs/datasets/'"
   ]
  },
  {
   "cell_type": "code",
   "execution_count": 4,
   "id": "ab71afc7-f078-4439-ba7d-5e348f44266c",
   "metadata": {
    "colab": {
     "base_uri": "https://localhost:8080/",
     "height": 356
    },
    "id": "ab71afc7-f078-4439-ba7d-5e348f44266c",
    "outputId": "a35595a3-d480-4f95-9725-2d53d8ed571a"
   },
   "outputs": [],
   "source": [
    "### Question 1\n",
    "# my_root = 'C:/Users/esloe/OneDrive/Desktop/CSE 158/cse-158-HWs/datasets/'\n",
    "# dataset = []\n",
    "# f = gzip.open(my_root + 'fantasy_10000.json.gz')\n",
    "# for line in f:\n",
    "#   dataset.append(json.loads(line))"
   ]
  },
  {
   "cell_type": "code",
   "execution_count": 5,
   "id": "f164c2d8-828a-4af2-ba69-000fad8f1c54",
   "metadata": {
    "id": "f164c2d8-828a-4af2-ba69-000fad8f1c54"
   },
   "outputs": [],
   "source": [
    "def getMaxLen(dataset):\n",
    "    # Find the longest review (number of characters)\n",
    "    maxLen = 0\n",
    "    for d in dataset:\n",
    "        maxLen = len(d['review_text']) if (len(d['review_text']) > maxLen) else maxLen\n",
    "    return maxLen"
   ]
  },
  {
   "cell_type": "code",
   "execution_count": 6,
   "id": "9dc58396-c9f4-4a94-b62e-74e03064ca24",
   "metadata": {
    "id": "9dc58396-c9f4-4a94-b62e-74e03064ca24"
   },
   "outputs": [],
   "source": [
    "def featureQ1(datum, maxLen):\n",
    "    # Feature vector for one data point\n",
    "    length_ratio = len(datum['review_text']) / maxLen\n",
    "    return [1, length_ratio]"
   ]
  },
  {
   "cell_type": "code",
   "execution_count": 7,
   "id": "f1ebbbb2-d5ae-405e-a02d-7307265387b8",
   "metadata": {
    "id": "f1ebbbb2-d5ae-405e-a02d-7307265387b8"
   },
   "outputs": [],
   "source": [
    "def Q1(dataset):\n",
    "    # Implement...\n",
    "    maxLen = getMaxLen(dataset)\n",
    "    ratings = [d['rating'] for d in dataset]\n",
    "    y = numpy.array(ratings).reshape(-1,1)\n",
    "    X = numpy.array([featureQ1(d, maxLen) for d in dataset])\n",
    "\n",
    "    model = linear_model.LinearRegression(fit_intercept=False)\n",
    "    model.fit(X,y)\n",
    "    theta = model.coef_\n",
    "    \n",
    "    MSE = numpy.mean((y - X @ theta.T) ** 2)\n",
    "    theta = theta[0]\n",
    "\n",
    "    return theta, MSE"
   ]
  },
  {
   "cell_type": "code",
   "execution_count": 8,
   "id": "a8e3b548-53bc-47ad-bc45-d63fc4af95ce",
   "metadata": {
    "id": "a8e3b548-53bc-47ad-bc45-d63fc4af95ce"
   },
   "outputs": [],
   "source": [
    "### Question 2"
   ]
  },
  {
   "cell_type": "code",
   "execution_count": 9,
   "id": "abce94cf-a7ca-4eef-b5fa-920349ee1003",
   "metadata": {
    "id": "abce94cf-a7ca-4eef-b5fa-920349ee1003"
   },
   "outputs": [],
   "source": [
    "def featureQ2(datum, maxLen):\n",
    "    # Implement (should be 1, length feature, day feature, month feature)\n",
    "    feature_list = featureQ1(datum, maxLen)\n",
    "    feature_list.extend([0,0,0,0,0,0,0,0,0,0,0,0,0,0,0,0,0]) # could do 0 times #features right? idc\n",
    "    t = dateutil.parser.parse(datum['date_added']) \n",
    "    day = t.weekday() # monday = 0\n",
    "    month = t.month - 1 # for 0-indexing (normally, january = 1)\n",
    "    \n",
    "    # one-hot encoding\n",
    "    if (day>0):\n",
    "        feature_list[1+day] = 1 \n",
    "    if (month>0):\n",
    "        feature_list[1+6+month] = 1\n",
    "    return feature_list"
   ]
  },
  {
   "cell_type": "code",
   "execution_count": 10,
   "id": "8cb8f5cf",
   "metadata": {
    "id": "8cb8f5cf"
   },
   "outputs": [],
   "source": [
    "def Q2(dataset):\n",
    "    # Implement (note MSE should be a *number*, not e.g. an array of length 1)\n",
    "    maxLen = getMaxLen(dataset)\n",
    "    Y2 = numpy.array([d['rating'] for d in dataset]).reshape(-1,1)\n",
    "    X2 = numpy.array([featureQ2(datum, maxLen) for datum in dataset])\n",
    "\n",
    "    model = linear_model.LinearRegression(fit_intercept=False)\n",
    "    model.fit(X2,Y2)\n",
    "    theta = model.coef_\n",
    "\n",
    "    MSE2 = numpy.mean((Y2 - X2 @ theta.T) ** 2)\n",
    "    theta = theta[0]\n",
    "    \n",
    "    return X2, Y2, MSE2"
   ]
  },
  {
   "cell_type": "code",
   "execution_count": 11,
   "id": "939c02d3-eb26-4e65-96a2-d55fc41d2209",
   "metadata": {
    "id": "939c02d3-eb26-4e65-96a2-d55fc41d2209"
   },
   "outputs": [],
   "source": [
    "def featureQ3(datum, maxLen):\n",
    "    # Implement (should be 1, length feature, day feature, month feature)\n",
    "    feature_list = featureQ1(datum, maxLen)\n",
    "    t = dateutil.parser.parse(datum['date_added']) \n",
    "    day = t.weekday() # monday = 0\n",
    "    month = t.month # january = 1\n",
    "    feature_list.extend([day,month])\n",
    "    \n",
    "    return feature_list"
   ]
  },
  {
   "cell_type": "code",
   "execution_count": 12,
   "id": "3efaacd2-6ac8-4a3c-8d32-60ad8f389917",
   "metadata": {
    "id": "3efaacd2-6ac8-4a3c-8d32-60ad8f389917"
   },
   "outputs": [],
   "source": [
    "def Q3(dataset):\n",
    "    # Implement\n",
    "    maxLen = getMaxLen(dataset)\n",
    "    Y3 = numpy.array([d['rating'] for d in dataset]).reshape(-1,1)\n",
    "    X3 = numpy.array([featureQ3(datum, maxLen) for datum in dataset])\n",
    "\n",
    "    model = linear_model.LinearRegression(fit_intercept=False)\n",
    "    model.fit(X3,Y3)\n",
    "    theta = model.coef_\n",
    "\n",
    "    MSE3 = numpy.mean(((Y3 - X3 @ theta.T) ** 2))\n",
    "    theta = theta[0]\n",
    "    \n",
    "    return X3, Y3, MSE3"
   ]
  },
  {
   "cell_type": "code",
   "execution_count": 13,
   "id": "d1029574-b4c4-4675-83ad-c20674a2428b",
   "metadata": {
    "id": "d1029574-b4c4-4675-83ad-c20674a2428b"
   },
   "outputs": [],
   "source": [
    "def Q4(dataset):\n",
    "    # Implement\n",
    "    maxLen = getMaxLen(dataset)\n",
    "    y = numpy.array([d['rating'] for d in dataset]).reshape(-1,1)\n",
    "    X_onehot = numpy.array([featureQ2(datum,maxLen) for datum in dataset])\n",
    "    X_dateasis = numpy.array([featureQ3(datum,maxLen) for datum in dataset])\n",
    "    \n",
    "    X_onehot_train, X_onehot_test, y_train, y_test = train_test_split(X_onehot, y, test_size=0.5,shuffle=False)\n",
    "    X_dateasis_train, X_dateasis_test, y_train, y_test = train_test_split(X_onehot, y, test_size=0.5,shuffle=False)\n",
    "\n",
    "    model_onehot = linear_model.LinearRegression(fit_intercept=False)\n",
    "    model_asis = linear_model.LinearRegression(fit_intercept=False)\n",
    "\n",
    "    model_onehot.fit(X_onehot_train,y_train)\n",
    "    model_asis.fit(X_dateasis_train,y_train)\n",
    "\n",
    "    y_onehot_pred = model_onehot.predict(X_onehot_test)\n",
    "    y_asis_pred = model_asis.predict(X_dateasis_test)\n",
    "\n",
    "    test_mse3 = numpy.mean((y_test - y_onehot_pred) ** 2)\n",
    "    test_mse2 = numpy.mean((y_test - y_asis_pred) ** 2)\n",
    "    \n",
    "    return test_mse2, test_mse3"
   ]
  },
  {
   "cell_type": "code",
   "execution_count": 14,
   "id": "3a38cc78-c502-4ad1-b2db-d8358c0caa3e",
   "metadata": {
    "id": "3a38cc78-c502-4ad1-b2db-d8358c0caa3e"
   },
   "outputs": [],
   "source": [
    "### Question 5"
   ]
  },
  {
   "cell_type": "code",
   "execution_count": 15,
   "id": "07500974-8ee5-4423-809c-9ee477a5ca32",
   "metadata": {},
   "outputs": [],
   "source": [
    "# my_root = 'C:/Users/esloe/OneDrive/Desktop/CSE 158/cse-158-HWs/datasets/'\n",
    "# datasetB = []\n",
    "# f = open(my_root + 'beer_50000.json')\n",
    "# for line in f:\n",
    "#   datasetB.append(eval(line))"
   ]
  },
  {
   "cell_type": "code",
   "execution_count": 17,
   "id": "4df2e6ea",
   "metadata": {
    "id": "4df2e6ea"
   },
   "outputs": [],
   "source": [
    "def featureQ5(datum):\n",
    "    a = [1, len(datum['review/text'])]\n",
    "    return a\n",
    "    # Implement"
   ]
  },
  {
   "cell_type": "code",
   "execution_count": 18,
   "id": "cabb75ec-826a-497e-b158-f5c340aea4d2",
   "metadata": {
    "id": "cabb75ec-826a-497e-b158-f5c340aea4d2"
   },
   "outputs": [],
   "source": [
    "def Q5(dataset, feat_func):\n",
    "    # Implement\n",
    "    y = [d['review/overall'] >= 4 for d in dataset]\n",
    "    X = [feat_func(d) for d in dataset]\n",
    "\n",
    "    model = linear_model.LogisticRegression(class_weight='balanced')\n",
    "    model.fit(X,y)\n",
    "    \n",
    "    predictions = model.predict(X)\n",
    "\n",
    "    TP, TN, FP, FN, i = 0,0,0,0,0\n",
    "\n",
    "    while(i < len(y)):\n",
    "        if y[i] and predictions[i]:\n",
    "            TP += 1\n",
    "        elif y[i] and not predictions[i]:\n",
    "            FN += 1\n",
    "        elif not y[i] and not predictions[i]:\n",
    "            TN += 1\n",
    "        else:\n",
    "            FP += 1\n",
    "        i += 1\n",
    "    BER = 1/2 * ((FP/(FP+TN) + FN/(FN+TP)))\n",
    "    \n",
    "    return TP, TN, FP, FN, BER"
   ]
  },
  {
   "cell_type": "code",
   "execution_count": 19,
   "id": "a3c14955-d174-473b-bf2b-a2b98776685e",
   "metadata": {
    "id": "a3c14955-d174-473b-bf2b-a2b98776685e"
   },
   "outputs": [],
   "source": [
    "### Question 6"
   ]
  },
  {
   "cell_type": "code",
   "execution_count": 20,
   "id": "2a71178c-589e-433c-8bdb-70c5e1510fce",
   "metadata": {
    "id": "2a71178c-589e-433c-8bdb-70c5e1510fce"
   },
   "outputs": [],
   "source": [
    "def Q6(dataset):\n",
    "    # Implement\n",
    "    y = [d['review/overall'] >= 4 for d in dataset]\n",
    "    X = [featureQ5(d) for d in dataset]\n",
    "\n",
    "    model = linear_model.LogisticRegression(class_weight='balanced')\n",
    "    model.fit(X,y)\n",
    "    \n",
    "    confidences = model.decision_function(X)\n",
    "    sortedByConfidence = list(zip(confidences,y))\n",
    "    sortedByConfidence.sort(reverse=True)\n",
    "\n",
    "    precs = []\n",
    "    specified_precisions = [1,100,1000,10000]\n",
    "    for k in specified_precisions:\n",
    "        retrievedLabels = [x[1] for x in sortedByConfidence[:k]]\n",
    "        precs.append(sum(retrievedLabels) / len(retrievedLabels))\n",
    "    \n",
    "    return precs"
   ]
  },
  {
   "cell_type": "code",
   "execution_count": 21,
   "id": "e8291f55-cfa1-4979-bcaa-42a238e9a844",
   "metadata": {
    "id": "e8291f55-cfa1-4979-bcaa-42a238e9a844"
   },
   "outputs": [],
   "source": [
    "### Question 7"
   ]
  },
  {
   "cell_type": "code",
   "execution_count": 1,
   "id": "96e16d5a",
   "metadata": {
    "id": "96e16d5a"
   },
   "outputs": [],
   "source": [
    "def featureQ7(datum):\n",
    "    a = [1, len(datum['review/text']), datum['review/palate'], datum['review/taste']]\n",
    "    return a\n",
    "    # Implement (any feature vector which improves performance over Q5)"
   ]
  },
  {
   "cell_type": "code",
   "execution_count": null,
   "id": "6dc12a55-4d55-4f12-8124-9a33f86403c7",
   "metadata": {},
   "outputs": [],
   "source": []
  }
 ],
 "metadata": {
  "colab": {
   "include_colab_link": true,
   "provenance": []
  },
  "kernelspec": {
   "display_name": "Python 3 (ipykernel)",
   "language": "python",
   "name": "python3"
  },
  "language_info": {
   "codemirror_mode": {
    "name": "ipython",
    "version": 3
   },
   "file_extension": ".py",
   "mimetype": "text/x-python",
   "name": "python",
   "nbconvert_exporter": "python",
   "pygments_lexer": "ipython3",
   "version": "3.13.5"
  }
 },
 "nbformat": 4,
 "nbformat_minor": 5
}
