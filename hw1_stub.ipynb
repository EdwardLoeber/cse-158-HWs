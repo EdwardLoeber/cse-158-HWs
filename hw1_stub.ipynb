{
  "cells": [
    {
      "cell_type": "markdown",
      "metadata": {
        "id": "view-in-github",
        "colab_type": "text"
      },
      "source": [
        "<a href=\"https://colab.research.google.com/github/EdwardLoeber/cse-158-HWs/blob/main/hw1_stub.ipynb\" target=\"_parent\"><img src=\"https://colab.research.google.com/assets/colab-badge.svg\" alt=\"Open In Colab\"/></a>"
      ]
    },
    {
      "cell_type": "code",
      "execution_count": null,
      "id": "07ad6b17",
      "metadata": {
        "id": "07ad6b17"
      },
      "outputs": [],
      "source": [
        "from collections import defaultdict\n",
        "from sklearn import linear_model\n",
        "import numpy\n",
        "import math"
      ]
    },
    {
      "cell_type": "code",
      "execution_count": null,
      "id": "ab71afc7-f078-4439-ba7d-5e348f44266c",
      "metadata": {
        "id": "ab71afc7-f078-4439-ba7d-5e348f44266c"
      },
      "outputs": [],
      "source": [
        "### Question 1"
      ]
    },
    {
      "cell_type": "code",
      "execution_count": null,
      "id": "f164c2d8-828a-4af2-ba69-000fad8f1c54",
      "metadata": {
        "id": "f164c2d8-828a-4af2-ba69-000fad8f1c54"
      },
      "outputs": [],
      "source": [
        "def getMaxLen(dataset):\n",
        "    # Find the longest review (number of characters)\n",
        "    return maxLen"
      ]
    },
    {
      "cell_type": "code",
      "execution_count": null,
      "id": "9dc58396-c9f4-4a94-b62e-74e03064ca24",
      "metadata": {
        "id": "9dc58396-c9f4-4a94-b62e-74e03064ca24"
      },
      "outputs": [],
      "source": [
        "def featureQ1(datum, maxLen):\n",
        "    # Feature vector for one data point"
      ]
    },
    {
      "cell_type": "code",
      "execution_count": null,
      "id": "f1ebbbb2-d5ae-405e-a02d-7307265387b8",
      "metadata": {
        "id": "f1ebbbb2-d5ae-405e-a02d-7307265387b8"
      },
      "outputs": [],
      "source": [
        "def Q1(dataset):\n",
        "    # Implement...\n",
        "    return theta, MSE"
      ]
    },
    {
      "cell_type": "code",
      "execution_count": null,
      "id": "a8e3b548-53bc-47ad-bc45-d63fc4af95ce",
      "metadata": {
        "id": "a8e3b548-53bc-47ad-bc45-d63fc4af95ce"
      },
      "outputs": [],
      "source": [
        "### Question 2"
      ]
    },
    {
      "cell_type": "code",
      "execution_count": null,
      "id": "abce94cf-a7ca-4eef-b5fa-920349ee1003",
      "metadata": {
        "id": "abce94cf-a7ca-4eef-b5fa-920349ee1003"
      },
      "outputs": [],
      "source": [
        "def featureQ2(datum, maxLen):\n",
        "    # Implement (should be 1, length feature, day feature, month feature)"
      ]
    },
    {
      "cell_type": "code",
      "execution_count": null,
      "id": "8cb8f5cf",
      "metadata": {
        "id": "8cb8f5cf"
      },
      "outputs": [],
      "source": [
        "def Q2(dataset):\n",
        "    # Implement (note MSE should be a *number*, not e.g. an array of length 1)\n",
        "    return X2, Y2, MSE2"
      ]
    },
    {
      "cell_type": "code",
      "execution_count": null,
      "id": "35d18540-6413-4459-8082-0f8cc1d3e276",
      "metadata": {
        "id": "35d18540-6413-4459-8082-0f8cc1d3e276"
      },
      "outputs": [],
      "source": [
        "### Question 3"
      ]
    },
    {
      "cell_type": "code",
      "execution_count": null,
      "id": "939c02d3-eb26-4e65-96a2-d55fc41d2209",
      "metadata": {
        "id": "939c02d3-eb26-4e65-96a2-d55fc41d2209"
      },
      "outputs": [],
      "source": [
        "def featureQ3(datum, maxLen):\n",
        "    # Implement"
      ]
    },
    {
      "cell_type": "code",
      "execution_count": null,
      "id": "3efaacd2-6ac8-4a3c-8d32-60ad8f389917",
      "metadata": {
        "id": "3efaacd2-6ac8-4a3c-8d32-60ad8f389917"
      },
      "outputs": [],
      "source": [
        "def Q3(dataset):\n",
        "    # Implement\n",
        "    return X3, Y3, MSE3"
      ]
    },
    {
      "cell_type": "code",
      "execution_count": null,
      "id": "6d89e772-b1ad-46fc-aeb8-45a6df15fa5d",
      "metadata": {
        "id": "6d89e772-b1ad-46fc-aeb8-45a6df15fa5d"
      },
      "outputs": [],
      "source": [
        "### Question 4"
      ]
    },
    {
      "cell_type": "code",
      "execution_count": null,
      "id": "d1029574-b4c4-4675-83ad-c20674a2428b",
      "metadata": {
        "id": "d1029574-b4c4-4675-83ad-c20674a2428b"
      },
      "outputs": [],
      "source": [
        "def Q4(dataset):\n",
        "    # Implement\n",
        "    return test_mse2, test_mse3"
      ]
    },
    {
      "cell_type": "code",
      "execution_count": null,
      "id": "3a38cc78-c502-4ad1-b2db-d8358c0caa3e",
      "metadata": {
        "id": "3a38cc78-c502-4ad1-b2db-d8358c0caa3e"
      },
      "outputs": [],
      "source": [
        "### Question 5"
      ]
    },
    {
      "cell_type": "code",
      "execution_count": null,
      "id": "4df2e6ea",
      "metadata": {
        "id": "4df2e6ea"
      },
      "outputs": [],
      "source": [
        "def featureQ5(datum):\n",
        "    # Implement"
      ]
    },
    {
      "cell_type": "code",
      "execution_count": null,
      "id": "cabb75ec-826a-497e-b158-f5c340aea4d2",
      "metadata": {
        "id": "cabb75ec-826a-497e-b158-f5c340aea4d2"
      },
      "outputs": [],
      "source": [
        "def Q5(dataset, feat_func):\n",
        "    # Implement\n",
        "    return TP, TN, FP, FN, BER"
      ]
    },
    {
      "cell_type": "code",
      "execution_count": null,
      "id": "a3c14955-d174-473b-bf2b-a2b98776685e",
      "metadata": {
        "id": "a3c14955-d174-473b-bf2b-a2b98776685e"
      },
      "outputs": [],
      "source": [
        "### Question 6"
      ]
    },
    {
      "cell_type": "code",
      "execution_count": null,
      "id": "2a71178c-589e-433c-8bdb-70c5e1510fce",
      "metadata": {
        "id": "2a71178c-589e-433c-8bdb-70c5e1510fce"
      },
      "outputs": [],
      "source": [
        "def Q6(dataset):\n",
        "    # Implement\n",
        "    return precs"
      ]
    },
    {
      "cell_type": "code",
      "execution_count": null,
      "id": "e8291f55-cfa1-4979-bcaa-42a238e9a844",
      "metadata": {
        "id": "e8291f55-cfa1-4979-bcaa-42a238e9a844"
      },
      "outputs": [],
      "source": [
        "### Question 7"
      ]
    },
    {
      "cell_type": "code",
      "execution_count": null,
      "id": "96e16d5a",
      "metadata": {
        "id": "96e16d5a"
      },
      "outputs": [],
      "source": [
        "def featureQ7(datum):\n",
        "    # Implement (any feature vector which improves performance over Q5)"
      ]
    },
    {
      "cell_type": "code",
      "execution_count": null,
      "id": "024a628f",
      "metadata": {
        "id": "024a628f"
      },
      "outputs": [],
      "source": []
    }
  ],
  "metadata": {
    "kernelspec": {
      "display_name": "Python 3 (ipykernel)",
      "language": "python",
      "name": "python3"
    },
    "language_info": {
      "codemirror_mode": {
        "name": "ipython",
        "version": 3
      },
      "file_extension": ".py",
      "mimetype": "text/x-python",
      "name": "python",
      "nbconvert_exporter": "python",
      "pygments_lexer": "ipython3",
      "version": "3.11.2"
    },
    "colab": {
      "provenance": [],
      "include_colab_link": true
    }
  },
  "nbformat": 4,
  "nbformat_minor": 5
}