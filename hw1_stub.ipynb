{
  "cells": [
    {
      "cell_type": "markdown",
      "metadata": {
        "id": "view-in-github",
        "colab_type": "text"
      },
      "source": [
        "<a href=\"https://colab.research.google.com/github/EdwardLoeber/cse-158-HWs/blob/main/hw1_stub.ipynb\" target=\"_parent\"><img src=\"https://colab.research.google.com/assets/colab-badge.svg\" alt=\"Open In Colab\"/></a>"
      ]
    },
    {
      "cell_type": "code",
      "source": [
        "import gzip\n",
        "import json\n",
        "import dateutil.parser\n",
        "import random"
      ],
      "metadata": {
        "id": "KbaVBWaMp7hv"
      },
      "id": "KbaVBWaMp7hv",
      "execution_count": 2,
      "outputs": []
    },
    {
      "cell_type": "code",
      "execution_count": 1,
      "id": "07ad6b17",
      "metadata": {
        "id": "07ad6b17"
      },
      "outputs": [],
      "source": [
        "from collections import defaultdict\n",
        "from sklearn import linear_model\n",
        "import numpy\n",
        "import math"
      ]
    },
    {
      "cell_type": "code",
      "source": [
        "root = '/datasets/'"
      ],
      "metadata": {
        "id": "LPrS79m5qmoU"
      },
      "id": "LPrS79m5qmoU",
      "execution_count": 9,
      "outputs": []
    },
    {
      "cell_type": "code",
      "execution_count": 10,
      "id": "ab71afc7-f078-4439-ba7d-5e348f44266c",
      "metadata": {
        "id": "ab71afc7-f078-4439-ba7d-5e348f44266c",
        "outputId": "a35595a3-d480-4f95-9725-2d53d8ed571a",
        "colab": {
          "base_uri": "https://localhost:8080/",
          "height": 356
        }
      },
      "outputs": [
        {
          "output_type": "error",
          "ename": "FileNotFoundError",
          "evalue": "[Errno 2] No such file or directory: '/datasets/fantasy_1000.json.gz'",
          "traceback": [
            "\u001b[0;31m---------------------------------------------------------------------------\u001b[0m",
            "\u001b[0;31mFileNotFoundError\u001b[0m                         Traceback (most recent call last)",
            "\u001b[0;32m/tmp/ipython-input-1297603687.py\u001b[0m in \u001b[0;36m<cell line: 0>\u001b[0;34m()\u001b[0m\n\u001b[1;32m      1\u001b[0m \u001b[0;31m### Question 1\u001b[0m\u001b[0;34m\u001b[0m\u001b[0;34m\u001b[0m\u001b[0m\n\u001b[1;32m      2\u001b[0m \u001b[0mdataset\u001b[0m \u001b[0;34m=\u001b[0m \u001b[0;34m[\u001b[0m\u001b[0;34m]\u001b[0m\u001b[0;34m\u001b[0m\u001b[0;34m\u001b[0m\u001b[0m\n\u001b[0;32m----> 3\u001b[0;31m \u001b[0mf\u001b[0m \u001b[0;34m=\u001b[0m \u001b[0mgzip\u001b[0m\u001b[0;34m.\u001b[0m\u001b[0mopen\u001b[0m\u001b[0;34m(\u001b[0m\u001b[0mroot\u001b[0m \u001b[0;34m+\u001b[0m \u001b[0;34m'fantasy_1000.json.gz'\u001b[0m\u001b[0;34m)\u001b[0m\u001b[0;34m\u001b[0m\u001b[0;34m\u001b[0m\u001b[0m\n\u001b[0m\u001b[1;32m      4\u001b[0m \u001b[0;32mfor\u001b[0m \u001b[0mline\u001b[0m \u001b[0;32min\u001b[0m \u001b[0mf\u001b[0m\u001b[0;34m:\u001b[0m\u001b[0;34m\u001b[0m\u001b[0;34m\u001b[0m\u001b[0m\n\u001b[1;32m      5\u001b[0m   \u001b[0mdataset\u001b[0m\u001b[0;34m.\u001b[0m\u001b[0mappend\u001b[0m\u001b[0;34m(\u001b[0m\u001b[0mjson\u001b[0m\u001b[0;34m.\u001b[0m\u001b[0mloads\u001b[0m\u001b[0;34m(\u001b[0m\u001b[0mline\u001b[0m\u001b[0;34m)\u001b[0m\u001b[0;34m)\u001b[0m\u001b[0;34m\u001b[0m\u001b[0;34m\u001b[0m\u001b[0m\n",
            "\u001b[0;32m/usr/lib/python3.12/gzip.py\u001b[0m in \u001b[0;36mopen\u001b[0;34m(filename, mode, compresslevel, encoding, errors, newline)\u001b[0m\n\u001b[1;32m     63\u001b[0m     \u001b[0mgz_mode\u001b[0m \u001b[0;34m=\u001b[0m \u001b[0mmode\u001b[0m\u001b[0;34m.\u001b[0m\u001b[0mreplace\u001b[0m\u001b[0;34m(\u001b[0m\u001b[0;34m\"t\"\u001b[0m\u001b[0;34m,\u001b[0m \u001b[0;34m\"\"\u001b[0m\u001b[0;34m)\u001b[0m\u001b[0;34m\u001b[0m\u001b[0;34m\u001b[0m\u001b[0m\n\u001b[1;32m     64\u001b[0m     \u001b[0;32mif\u001b[0m \u001b[0misinstance\u001b[0m\u001b[0;34m(\u001b[0m\u001b[0mfilename\u001b[0m\u001b[0;34m,\u001b[0m \u001b[0;34m(\u001b[0m\u001b[0mstr\u001b[0m\u001b[0;34m,\u001b[0m \u001b[0mbytes\u001b[0m\u001b[0;34m,\u001b[0m \u001b[0mos\u001b[0m\u001b[0;34m.\u001b[0m\u001b[0mPathLike\u001b[0m\u001b[0;34m)\u001b[0m\u001b[0;34m)\u001b[0m\u001b[0;34m:\u001b[0m\u001b[0;34m\u001b[0m\u001b[0;34m\u001b[0m\u001b[0m\n\u001b[0;32m---> 65\u001b[0;31m         \u001b[0mbinary_file\u001b[0m \u001b[0;34m=\u001b[0m \u001b[0mGzipFile\u001b[0m\u001b[0;34m(\u001b[0m\u001b[0mfilename\u001b[0m\u001b[0;34m,\u001b[0m \u001b[0mgz_mode\u001b[0m\u001b[0;34m,\u001b[0m \u001b[0mcompresslevel\u001b[0m\u001b[0;34m)\u001b[0m\u001b[0;34m\u001b[0m\u001b[0;34m\u001b[0m\u001b[0m\n\u001b[0m\u001b[1;32m     66\u001b[0m     \u001b[0;32melif\u001b[0m \u001b[0mhasattr\u001b[0m\u001b[0;34m(\u001b[0m\u001b[0mfilename\u001b[0m\u001b[0;34m,\u001b[0m \u001b[0;34m\"read\"\u001b[0m\u001b[0;34m)\u001b[0m \u001b[0;32mor\u001b[0m \u001b[0mhasattr\u001b[0m\u001b[0;34m(\u001b[0m\u001b[0mfilename\u001b[0m\u001b[0;34m,\u001b[0m \u001b[0;34m\"write\"\u001b[0m\u001b[0;34m)\u001b[0m\u001b[0;34m:\u001b[0m\u001b[0;34m\u001b[0m\u001b[0;34m\u001b[0m\u001b[0m\n\u001b[1;32m     67\u001b[0m         \u001b[0mbinary_file\u001b[0m \u001b[0;34m=\u001b[0m \u001b[0mGzipFile\u001b[0m\u001b[0;34m(\u001b[0m\u001b[0;32mNone\u001b[0m\u001b[0;34m,\u001b[0m \u001b[0mgz_mode\u001b[0m\u001b[0;34m,\u001b[0m \u001b[0mcompresslevel\u001b[0m\u001b[0;34m,\u001b[0m \u001b[0mfilename\u001b[0m\u001b[0;34m)\u001b[0m\u001b[0;34m\u001b[0m\u001b[0;34m\u001b[0m\u001b[0m\n",
            "\u001b[0;32m/usr/lib/python3.12/gzip.py\u001b[0m in \u001b[0;36m__init__\u001b[0;34m(self, filename, mode, compresslevel, fileobj, mtime)\u001b[0m\n\u001b[1;32m    199\u001b[0m         \u001b[0;32mtry\u001b[0m\u001b[0;34m:\u001b[0m\u001b[0;34m\u001b[0m\u001b[0;34m\u001b[0m\u001b[0m\n\u001b[1;32m    200\u001b[0m             \u001b[0;32mif\u001b[0m \u001b[0mfileobj\u001b[0m \u001b[0;32mis\u001b[0m \u001b[0;32mNone\u001b[0m\u001b[0;34m:\u001b[0m\u001b[0;34m\u001b[0m\u001b[0;34m\u001b[0m\u001b[0m\n\u001b[0;32m--> 201\u001b[0;31m                 \u001b[0mfileobj\u001b[0m \u001b[0;34m=\u001b[0m \u001b[0mself\u001b[0m\u001b[0;34m.\u001b[0m\u001b[0mmyfileobj\u001b[0m \u001b[0;34m=\u001b[0m \u001b[0mbuiltins\u001b[0m\u001b[0;34m.\u001b[0m\u001b[0mopen\u001b[0m\u001b[0;34m(\u001b[0m\u001b[0mfilename\u001b[0m\u001b[0;34m,\u001b[0m \u001b[0mmode\u001b[0m \u001b[0;32mor\u001b[0m \u001b[0;34m'rb'\u001b[0m\u001b[0;34m)\u001b[0m\u001b[0;34m\u001b[0m\u001b[0;34m\u001b[0m\u001b[0m\n\u001b[0m\u001b[1;32m    202\u001b[0m             \u001b[0;32mif\u001b[0m \u001b[0mfilename\u001b[0m \u001b[0;32mis\u001b[0m \u001b[0;32mNone\u001b[0m\u001b[0;34m:\u001b[0m\u001b[0;34m\u001b[0m\u001b[0;34m\u001b[0m\u001b[0m\n\u001b[1;32m    203\u001b[0m                 \u001b[0mfilename\u001b[0m \u001b[0;34m=\u001b[0m \u001b[0mgetattr\u001b[0m\u001b[0;34m(\u001b[0m\u001b[0mfileobj\u001b[0m\u001b[0;34m,\u001b[0m \u001b[0;34m'name'\u001b[0m\u001b[0;34m,\u001b[0m \u001b[0;34m''\u001b[0m\u001b[0;34m)\u001b[0m\u001b[0;34m\u001b[0m\u001b[0;34m\u001b[0m\u001b[0m\n",
            "\u001b[0;31mFileNotFoundError\u001b[0m: [Errno 2] No such file or directory: '/datasets/fantasy_1000.json.gz'"
          ]
        }
      ],
      "source": [
        "### Question 1\n",
        "dataset = []\n",
        "f = gzip.open(root + 'fantasy_1000.json.gz')\n",
        "for line in f:\n",
        "  dataset.append(json.loads(line))"
      ]
    },
    {
      "cell_type": "code",
      "execution_count": null,
      "id": "f164c2d8-828a-4af2-ba69-000fad8f1c54",
      "metadata": {
        "id": "f164c2d8-828a-4af2-ba69-000fad8f1c54"
      },
      "outputs": [],
      "source": [
        "def getMaxLen(dataset):\n",
        "    # Find the longest review (number of characters)\n",
        "    return maxLen"
      ]
    },
    {
      "cell_type": "code",
      "execution_count": null,
      "id": "9dc58396-c9f4-4a94-b62e-74e03064ca24",
      "metadata": {
        "id": "9dc58396-c9f4-4a94-b62e-74e03064ca24"
      },
      "outputs": [],
      "source": [
        "def featureQ1(datum, maxLen):\n",
        "    # Feature vector for one data point"
      ]
    },
    {
      "cell_type": "code",
      "execution_count": null,
      "id": "f1ebbbb2-d5ae-405e-a02d-7307265387b8",
      "metadata": {
        "id": "f1ebbbb2-d5ae-405e-a02d-7307265387b8"
      },
      "outputs": [],
      "source": [
        "def Q1(dataset):\n",
        "    # Implement...\n",
        "    return theta, MSE"
      ]
    },
    {
      "cell_type": "code",
      "execution_count": null,
      "id": "a8e3b548-53bc-47ad-bc45-d63fc4af95ce",
      "metadata": {
        "id": "a8e3b548-53bc-47ad-bc45-d63fc4af95ce"
      },
      "outputs": [],
      "source": [
        "### Question 2"
      ]
    },
    {
      "cell_type": "code",
      "execution_count": null,
      "id": "abce94cf-a7ca-4eef-b5fa-920349ee1003",
      "metadata": {
        "id": "abce94cf-a7ca-4eef-b5fa-920349ee1003"
      },
      "outputs": [],
      "source": [
        "def featureQ2(datum, maxLen):\n",
        "    # Implement (should be 1, length feature, day feature, month feature)"
      ]
    },
    {
      "cell_type": "code",
      "execution_count": null,
      "id": "8cb8f5cf",
      "metadata": {
        "id": "8cb8f5cf"
      },
      "outputs": [],
      "source": [
        "def Q2(dataset):\n",
        "    # Implement (note MSE should be a *number*, not e.g. an array of length 1)\n",
        "    return X2, Y2, MSE2"
      ]
    },
    {
      "cell_type": "code",
      "execution_count": null,
      "id": "35d18540-6413-4459-8082-0f8cc1d3e276",
      "metadata": {
        "id": "35d18540-6413-4459-8082-0f8cc1d3e276"
      },
      "outputs": [],
      "source": [
        "### Question 3"
      ]
    },
    {
      "cell_type": "code",
      "execution_count": null,
      "id": "939c02d3-eb26-4e65-96a2-d55fc41d2209",
      "metadata": {
        "id": "939c02d3-eb26-4e65-96a2-d55fc41d2209"
      },
      "outputs": [],
      "source": [
        "def featureQ3(datum, maxLen):\n",
        "    # Implement"
      ]
    },
    {
      "cell_type": "code",
      "execution_count": null,
      "id": "3efaacd2-6ac8-4a3c-8d32-60ad8f389917",
      "metadata": {
        "id": "3efaacd2-6ac8-4a3c-8d32-60ad8f389917"
      },
      "outputs": [],
      "source": [
        "def Q3(dataset):\n",
        "    # Implement\n",
        "    return X3, Y3, MSE3"
      ]
    },
    {
      "cell_type": "code",
      "execution_count": null,
      "id": "6d89e772-b1ad-46fc-aeb8-45a6df15fa5d",
      "metadata": {
        "id": "6d89e772-b1ad-46fc-aeb8-45a6df15fa5d"
      },
      "outputs": [],
      "source": [
        "### Question 4"
      ]
    },
    {
      "cell_type": "code",
      "execution_count": null,
      "id": "d1029574-b4c4-4675-83ad-c20674a2428b",
      "metadata": {
        "id": "d1029574-b4c4-4675-83ad-c20674a2428b"
      },
      "outputs": [],
      "source": [
        "def Q4(dataset):\n",
        "    # Implement\n",
        "    return test_mse2, test_mse3"
      ]
    },
    {
      "cell_type": "code",
      "execution_count": null,
      "id": "3a38cc78-c502-4ad1-b2db-d8358c0caa3e",
      "metadata": {
        "id": "3a38cc78-c502-4ad1-b2db-d8358c0caa3e"
      },
      "outputs": [],
      "source": [
        "### Question 5"
      ]
    },
    {
      "cell_type": "code",
      "execution_count": null,
      "id": "4df2e6ea",
      "metadata": {
        "id": "4df2e6ea"
      },
      "outputs": [],
      "source": [
        "def featureQ5(datum):\n",
        "    # Implement"
      ]
    },
    {
      "cell_type": "code",
      "execution_count": null,
      "id": "cabb75ec-826a-497e-b158-f5c340aea4d2",
      "metadata": {
        "id": "cabb75ec-826a-497e-b158-f5c340aea4d2"
      },
      "outputs": [],
      "source": [
        "def Q5(dataset, feat_func):\n",
        "    # Implement\n",
        "    return TP, TN, FP, FN, BER"
      ]
    },
    {
      "cell_type": "code",
      "execution_count": null,
      "id": "a3c14955-d174-473b-bf2b-a2b98776685e",
      "metadata": {
        "id": "a3c14955-d174-473b-bf2b-a2b98776685e"
      },
      "outputs": [],
      "source": [
        "### Question 6"
      ]
    },
    {
      "cell_type": "code",
      "execution_count": null,
      "id": "2a71178c-589e-433c-8bdb-70c5e1510fce",
      "metadata": {
        "id": "2a71178c-589e-433c-8bdb-70c5e1510fce"
      },
      "outputs": [],
      "source": [
        "def Q6(dataset):\n",
        "    # Implement\n",
        "    return precs"
      ]
    },
    {
      "cell_type": "code",
      "execution_count": null,
      "id": "e8291f55-cfa1-4979-bcaa-42a238e9a844",
      "metadata": {
        "id": "e8291f55-cfa1-4979-bcaa-42a238e9a844"
      },
      "outputs": [],
      "source": [
        "### Question 7"
      ]
    },
    {
      "cell_type": "code",
      "execution_count": null,
      "id": "96e16d5a",
      "metadata": {
        "id": "96e16d5a"
      },
      "outputs": [],
      "source": [
        "def featureQ7(datum):\n",
        "    # Implement (any feature vector which improves performance over Q5)"
      ]
    },
    {
      "cell_type": "code",
      "execution_count": null,
      "id": "024a628f",
      "metadata": {
        "id": "024a628f"
      },
      "outputs": [],
      "source": []
    }
  ],
  "metadata": {
    "kernelspec": {
      "display_name": "Python 3 (ipykernel)",
      "language": "python",
      "name": "python3"
    },
    "language_info": {
      "codemirror_mode": {
        "name": "ipython",
        "version": 3
      },
      "file_extension": ".py",
      "mimetype": "text/x-python",
      "name": "python",
      "nbconvert_exporter": "python",
      "pygments_lexer": "ipython3",
      "version": "3.11.2"
    },
    "colab": {
      "provenance": [],
      "include_colab_link": true
    }
  },
  "nbformat": 4,
  "nbformat_minor": 5
}